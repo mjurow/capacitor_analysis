{
 "cells": [
  {
   "cell_type": "markdown",
   "metadata": {},
   "source": [
    "# READ ME\n",
    "#### 1) Import the dictionaries\n",
    "#### 2) Currently written for windows\n",
    "#### 3) Subfolder name should be syntaxed like: mj_2-31_polymer_eis\n",
    "#### 4) Input the alpha values for R+CPE fits, set to 1 if it's R + C\n",
    "#### 4.1) THICKNESS IS CURRENTLY SET IN LINE 5\n",
    "#### 5) Run all cells"
   ]
  },
  {
   "cell_type": "code",
   "execution_count": 2,
   "metadata": {},
   "outputs": [],
   "source": [
    "%matplotlib inline\n",
    "import pandas as pd\n",
    "import numpy as np\n",
    "import matplotlib.pyplot as plt\n",
    "import os"
   ]
  },
  {
   "cell_type": "code",
   "execution_count": 3,
   "metadata": {},
   "outputs": [],
   "source": [
    "# THIS IS THE MAC LINE\n",
    "# eis = pd.read_table('/Users/Ratthew/OneDrive/lbl/capacitors/mj 2-31 polymer/mj_2-31_polymer_eis/n3-e_C08.txt', names = ['frequency', 'real', 'imaginary'])"
   ]
  },
  {
   "cell_type": "code",
   "execution_count": 4,
   "metadata": {},
   "outputs": [],
   "source": [
    "# THIS IS THE PC LINE; notice the r!!\n",
    "#eis = pd.read_table(r'C:\\Users\\YLiu\\OneDrive\\lbl\\capacitors\\mj 2-31 polymer\\mj_2-31_polymer_eis\\n3-e_C08.txt', names = ['frequency', 'real', 'imaginary'])\n",
    "#eis['imaginary'] = np.abs(eis['imaginary'])\n",
    "#eis.head(2)"
   ]
  },
  {
   "cell_type": "code",
   "execution_count": 5,
   "metadata": {},
   "outputs": [],
   "source": [
    "# ok. theres the data. now we need to define the capacitance, relative permittivity and tan delta values\n",
    "# easy one first...\n",
    "def tan_d(real, imaginary):\n",
    "    _tan_d = real/imaginary\n",
    "    return _tan_d\n",
    "#eis['tan d'] = tan_d(eis['real'], eis['imaginary'])  #COMMENTING THESE OUT MIGHT BREAK IT, NOT SURE\n",
    "\n",
    "# capacitance = 1/imaginary*(2pi f)^alpha\n",
    "def capacitance(imaginary, frequency, alpha):\n",
    "    _capacitance = 1/(imaginary * np.power((2*np.pi*frequency), alpha))\n",
    "    return _capacitance\n",
    "# will have to input alpha eventually but for now just type it in manually \n",
    "#eis['capacitance'] = capacitance(eis['imaginary'], eis['frequency'], 1)\n",
    "\n",
    "# krel = capacitance *  thickness   / e0 * dev area\n",
    "dev_area  = 0.000003\n",
    "E_naught = 8.85E-12\n",
    "thickness = 4.08E-07\n",
    "def krel(capval, thickness): #thickness also probably shouldnt be specified \n",
    "    _krel = ((capval * thickness)/(E_naught * dev_area))\n",
    "    return _krel\n",
    "#eis['K_rel'] = krel(eis['capacitance'], thickness)\n",
    "#eis.head(2)"
   ]
  },
  {
   "cell_type": "code",
   "execution_count": 6,
   "metadata": {},
   "outputs": [],
   "source": [
    "def CapDF(filename):\n",
    "    subfolder = str('C:\\\\Users\\\\YLiu\\\\OneDrive\\\\lbl\\\\capacitors\\\\mj 2-31 polymer\\\\mj_2-31_polymer_eis\\\\')\n",
    "    _eis = pd.read_table(subfolder + filename, names = ['frequency', 'real', 'imaginary'])\n",
    "    _eis['imaginary'] = np.abs(_eis['imaginary'])\n",
    "    _eis['tan d'] = tan_d(_eis['real'], _eis['imaginary'])\n",
    "    _eis['capacitance'] = capacitance(_eis['imaginary'], _eis['frequency'], arfa[_counter]) #here is the alpha term!!!\n",
    "    _eis['K_rel'] = krel(_eis['capacitance'], thickness)\n",
    "    return _eis"
   ]
  },
  {
   "cell_type": "code",
   "execution_count": 7,
   "metadata": {},
   "outputs": [],
   "source": [
    "# test = CapDF('n3-e_C08.txt')\n",
    "# test.head(2)\n",
    "# OK cool this function is now defined for any filename in the parent folder\n",
    "# so now what do i want to do exactly, loop through the whole folder right? \n",
    "# and store each dataframe as the filename????"
   ]
  },
  {
   "cell_type": "code",
   "execution_count": 8,
   "metadata": {},
   "outputs": [],
   "source": [
    "# now have to loop i through all files and plot them/aggregate into one big csv or somethign? \n",
    "# also should make the whole thing a function so i can call \"process_data\" on a cluster of files?"
   ]
  },
  {
   "cell_type": "code",
   "execution_count": 9,
   "metadata": {},
   "outputs": [
    {
     "name": "stdout",
     "output_type": "stream",
     "text": [
      "subfolder?mj_2-31_polymer_eis\n"
     ]
    }
   ],
   "source": [
    "subfolder = input('subfolder?') #in this case it's like mj_2-31_polymer_eis or whatever\n",
    "directory_to_see = os.getcwd()   +   \"\\\\\"   +  subfolder #this is all pc syntax\n",
    "all_files = os.listdir(directory_to_see) #show me all files\n",
    "text_list = []\n",
    "for file1 in all_files:\n",
    "\n",
    "    if file1.endswith('8.txt'): #as distinct from the fits which end in zfit.txt\n",
    "        text_list.append(\"\\\\\" + file1)"
   ]
  },
  {
   "cell_type": "code",
   "execution_count": 10,
   "metadata": {},
   "outputs": [
    {
     "data": {
      "text/plain": [
       "['\\\\a2-c_C08.txt',\n",
       " '\\\\a2-d_C08.txt',\n",
       " '\\\\a2-F_reallyF_C08.txt',\n",
       " '\\\\a2-g_C08.txt',\n",
       " '\\\\a2-h_C08.txt',\n",
       " '\\\\a3-c_C08.txt',\n",
       " '\\\\a3-g_C08.txt',\n",
       " '\\\\disconnected test_C08.txt',\n",
       " '\\\\n2-b_C08.txt',\n",
       " '\\\\n2-f_C08.txt',\n",
       " '\\\\n3-b_C08.txt',\n",
       " '\\\\n3-e_C08.txt',\n",
       " '\\\\short_C08.txt']"
      ]
     },
     "execution_count": 10,
     "metadata": {},
     "output_type": "execute_result"
    }
   ],
   "source": [
    "text_list  #beast mode would be saving the alpha value somewhere in the filename"
   ]
  },
  {
   "cell_type": "code",
   "execution_count": 11,
   "metadata": {},
   "outputs": [],
   "source": [
    "# MANUALLY INPUT ALPHAS HERE!!\n",
    "# IN THE ORDER OF THE ABOVE FILE LIST!!!!!\n",
    "\n",
    "arfa = [.986, .989, .988, .984, .990, .988, .992, 1, .977, .989, .993, .986, 1]\n"
   ]
  },
  {
   "cell_type": "code",
   "execution_count": 12,
   "metadata": {},
   "outputs": [],
   "source": [
    "DF_holder_dict = {}\n",
    "_counter = 0\n",
    "for z in text_list:\n",
    "    _name = 'DF' + z\n",
    "    _name = _name.split('_')[0]\n",
    "    _name = _name.replace(\"\\\\\", \"_\")\n",
    "    _name = _name.replace(\"-\", \"_\")\n",
    "    _name = _name.replace(\" \", \"_\")\n",
    "    DF_holder = str(_name)\n",
    "    DF_holder_dict[DF_holder] = CapDF(z) #THANK YOU MAI DO!\n",
    "    _counter = _counter + 1\n",
    "# SO NOW WE HAVE A DICTIONARY OF ALL OUR DATA FRAMES WITH FAIRLY SENSIBLE NAMES\n",
    "#DF_holder_dict[\"DF_a2_c\"]"
   ]
  },
  {
   "cell_type": "code",
   "execution_count": 13,
   "metadata": {},
   "outputs": [
    {
     "name": "stdout",
     "output_type": "stream",
     "text": [
      "DF_a2_c\n",
      "DF_a2_d\n",
      "DF_a2_F\n",
      "DF_a2_g\n",
      "DF_a2_h\n",
      "DF_a3_c\n",
      "DF_a3_g\n",
      "DF_disconnected_test\n",
      "DF_n2_b\n",
      "DF_n2_f\n",
      "DF_n3_b\n",
      "DF_n3_e\n",
      "DF_short\n"
     ]
    }
   ],
   "source": [
    "for key, value in DF_holder_dict.items() :\n",
    "    print (key)"
   ]
  },
  {
   "cell_type": "code",
   "execution_count": 14,
   "metadata": {},
   "outputs": [],
   "source": [
    "newpath = directory_to_see + r'\\processed_data'\n",
    "if not os.path.exists(newpath):\n",
    "    os.makedirs(newpath)"
   ]
  },
  {
   "cell_type": "code",
   "execution_count": 15,
   "metadata": {},
   "outputs": [],
   "source": [
    "for key, value in DF_holder_dict.items() :\n",
    "    #print (key)\n",
    "    DF_holder_dict[key].to_csv(newpath + '\\\\' + key +'.csv', sep = ',') "
   ]
  },
  {
   "cell_type": "code",
   "execution_count": null,
   "metadata": {},
   "outputs": [],
   "source": [
    "# cool. now you have a folder of all the proccessed device data"
   ]
  },
  {
   "cell_type": "code",
   "execution_count": null,
   "metadata": {},
   "outputs": [],
   "source": []
  }
 ],
 "metadata": {
  "kernelspec": {
   "display_name": "Python 3",
   "language": "python",
   "name": "python3"
  },
  "language_info": {
   "codemirror_mode": {
    "name": "ipython",
    "version": 3
   },
   "file_extension": ".py",
   "mimetype": "text/x-python",
   "name": "python",
   "nbconvert_exporter": "python",
   "pygments_lexer": "ipython3",
   "version": "3.6.4"
  }
 },
 "nbformat": 4,
 "nbformat_minor": 2
}
